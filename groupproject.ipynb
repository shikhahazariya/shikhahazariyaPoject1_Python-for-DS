{
 "cells": [
  {
   "cell_type": "code",
   "execution_count": 103,
   "id": "2fd5849c-69eb-49d9-9bfc-169704f2d134",
   "metadata": {},
   "outputs": [],
   "source": [
    "import pandas as pd\n",
    "import numpy as np\n",
    "import seaborn as sns\n",
    "import matplotlib.pyplot as plt\n",
    "%matplotlib inline\n",
    "import warnings\n",
    "warnings.filterwarnings('ignore')\n",
    "from sklearn.preprocessing import MinMaxScaler\n",
    "from sklearn.model_selection import train_test_split\n",
    "from sklearn.linear_model import LinearRegression\n",
    "from sklearn.metrics import r2_score\n",
    "from sklearn.preprocessing import LabelEncoder"
   ]
  },
  {
   "cell_type": "markdown",
   "id": "a46336d2-7f7e-45da-9c2c-fb344fabcf2e",
   "metadata": {},
   "source": [
    "2.Check the first few samples, shape, info of the data and try to familiarize\n",
    "yourself with different features"
   ]
  },
  {
   "cell_type": "code",
   "execution_count": 104,
   "id": "21ecf066-5ef6-411c-ac5d-4ec79df122b1",
   "metadata": {},
   "outputs": [
    {
     "data": {
      "text/html": [
       "<div>\n",
       "<style scoped>\n",
       "    .dataframe tbody tr th:only-of-type {\n",
       "        vertical-align: middle;\n",
       "    }\n",
       "\n",
       "    .dataframe tbody tr th {\n",
       "        vertical-align: top;\n",
       "    }\n",
       "\n",
       "    .dataframe thead th {\n",
       "        text-align: right;\n",
       "    }\n",
       "</style>\n",
       "<table border=\"1\" class=\"dataframe\">\n",
       "  <thead>\n",
       "    <tr style=\"text-align: right;\">\n",
       "      <th></th>\n",
       "      <th>ID</th>\n",
       "      <th>Name</th>\n",
       "      <th>Age</th>\n",
       "      <th>Photo</th>\n",
       "      <th>Nationality</th>\n",
       "      <th>Flag</th>\n",
       "      <th>Overall</th>\n",
       "      <th>Potential</th>\n",
       "      <th>Club</th>\n",
       "      <th>Club Logo</th>\n",
       "      <th>...</th>\n",
       "      <th>Composure</th>\n",
       "      <th>Marking</th>\n",
       "      <th>StandingTackle</th>\n",
       "      <th>SlidingTackle</th>\n",
       "      <th>GKDiving</th>\n",
       "      <th>GKHandling</th>\n",
       "      <th>GKKicking</th>\n",
       "      <th>GKPositioning</th>\n",
       "      <th>GKReflexes</th>\n",
       "      <th>Release Clause</th>\n",
       "    </tr>\n",
       "  </thead>\n",
       "  <tbody>\n",
       "    <tr>\n",
       "      <th>0</th>\n",
       "      <td>158023</td>\n",
       "      <td>L. Messi</td>\n",
       "      <td>31</td>\n",
       "      <td>https://cdn.sofifa.org/players/4/19/158023.png</td>\n",
       "      <td>Argentina</td>\n",
       "      <td>https://cdn.sofifa.org/flags/52.png</td>\n",
       "      <td>94</td>\n",
       "      <td>94</td>\n",
       "      <td>FC Barcelona</td>\n",
       "      <td>https://cdn.sofifa.org/teams/2/light/241.png</td>\n",
       "      <td>...</td>\n",
       "      <td>96.0</td>\n",
       "      <td>33.0</td>\n",
       "      <td>28.0</td>\n",
       "      <td>26.0</td>\n",
       "      <td>6.0</td>\n",
       "      <td>11.0</td>\n",
       "      <td>15.0</td>\n",
       "      <td>14.0</td>\n",
       "      <td>8.0</td>\n",
       "      <td>€226.5M</td>\n",
       "    </tr>\n",
       "    <tr>\n",
       "      <th>1</th>\n",
       "      <td>20801</td>\n",
       "      <td>Cristiano Ronaldo</td>\n",
       "      <td>33</td>\n",
       "      <td>https://cdn.sofifa.org/players/4/19/20801.png</td>\n",
       "      <td>Portugal</td>\n",
       "      <td>https://cdn.sofifa.org/flags/38.png</td>\n",
       "      <td>94</td>\n",
       "      <td>94</td>\n",
       "      <td>Juventus</td>\n",
       "      <td>https://cdn.sofifa.org/teams/2/light/45.png</td>\n",
       "      <td>...</td>\n",
       "      <td>95.0</td>\n",
       "      <td>28.0</td>\n",
       "      <td>31.0</td>\n",
       "      <td>23.0</td>\n",
       "      <td>7.0</td>\n",
       "      <td>11.0</td>\n",
       "      <td>15.0</td>\n",
       "      <td>14.0</td>\n",
       "      <td>11.0</td>\n",
       "      <td>€127.1M</td>\n",
       "    </tr>\n",
       "    <tr>\n",
       "      <th>2</th>\n",
       "      <td>190871</td>\n",
       "      <td>Neymar Jr</td>\n",
       "      <td>26</td>\n",
       "      <td>https://cdn.sofifa.org/players/4/19/190871.png</td>\n",
       "      <td>Brazil</td>\n",
       "      <td>https://cdn.sofifa.org/flags/54.png</td>\n",
       "      <td>92</td>\n",
       "      <td>93</td>\n",
       "      <td>Paris Saint-Germain</td>\n",
       "      <td>https://cdn.sofifa.org/teams/2/light/73.png</td>\n",
       "      <td>...</td>\n",
       "      <td>94.0</td>\n",
       "      <td>27.0</td>\n",
       "      <td>24.0</td>\n",
       "      <td>33.0</td>\n",
       "      <td>9.0</td>\n",
       "      <td>9.0</td>\n",
       "      <td>15.0</td>\n",
       "      <td>15.0</td>\n",
       "      <td>11.0</td>\n",
       "      <td>€228.1M</td>\n",
       "    </tr>\n",
       "    <tr>\n",
       "      <th>3</th>\n",
       "      <td>193080</td>\n",
       "      <td>De Gea</td>\n",
       "      <td>27</td>\n",
       "      <td>https://cdn.sofifa.org/players/4/19/193080.png</td>\n",
       "      <td>Spain</td>\n",
       "      <td>https://cdn.sofifa.org/flags/45.png</td>\n",
       "      <td>91</td>\n",
       "      <td>93</td>\n",
       "      <td>Manchester United</td>\n",
       "      <td>https://cdn.sofifa.org/teams/2/light/11.png</td>\n",
       "      <td>...</td>\n",
       "      <td>68.0</td>\n",
       "      <td>15.0</td>\n",
       "      <td>21.0</td>\n",
       "      <td>13.0</td>\n",
       "      <td>90.0</td>\n",
       "      <td>85.0</td>\n",
       "      <td>87.0</td>\n",
       "      <td>88.0</td>\n",
       "      <td>94.0</td>\n",
       "      <td>€138.6M</td>\n",
       "    </tr>\n",
       "    <tr>\n",
       "      <th>4</th>\n",
       "      <td>192985</td>\n",
       "      <td>K. De Bruyne</td>\n",
       "      <td>27</td>\n",
       "      <td>https://cdn.sofifa.org/players/4/19/192985.png</td>\n",
       "      <td>Belgium</td>\n",
       "      <td>https://cdn.sofifa.org/flags/7.png</td>\n",
       "      <td>91</td>\n",
       "      <td>92</td>\n",
       "      <td>Manchester City</td>\n",
       "      <td>https://cdn.sofifa.org/teams/2/light/10.png</td>\n",
       "      <td>...</td>\n",
       "      <td>88.0</td>\n",
       "      <td>68.0</td>\n",
       "      <td>58.0</td>\n",
       "      <td>51.0</td>\n",
       "      <td>15.0</td>\n",
       "      <td>13.0</td>\n",
       "      <td>5.0</td>\n",
       "      <td>10.0</td>\n",
       "      <td>13.0</td>\n",
       "      <td>€196.4M</td>\n",
       "    </tr>\n",
       "  </tbody>\n",
       "</table>\n",
       "<p>5 rows × 60 columns</p>\n",
       "</div>"
      ],
      "text/plain": [
       "       ID               Name  Age  \\\n",
       "0  158023           L. Messi   31   \n",
       "1   20801  Cristiano Ronaldo   33   \n",
       "2  190871          Neymar Jr   26   \n",
       "3  193080             De Gea   27   \n",
       "4  192985       K. De Bruyne   27   \n",
       "\n",
       "                                            Photo Nationality  \\\n",
       "0  https://cdn.sofifa.org/players/4/19/158023.png   Argentina   \n",
       "1   https://cdn.sofifa.org/players/4/19/20801.png    Portugal   \n",
       "2  https://cdn.sofifa.org/players/4/19/190871.png      Brazil   \n",
       "3  https://cdn.sofifa.org/players/4/19/193080.png       Spain   \n",
       "4  https://cdn.sofifa.org/players/4/19/192985.png     Belgium   \n",
       "\n",
       "                                  Flag  Overall  Potential  \\\n",
       "0  https://cdn.sofifa.org/flags/52.png       94         94   \n",
       "1  https://cdn.sofifa.org/flags/38.png       94         94   \n",
       "2  https://cdn.sofifa.org/flags/54.png       92         93   \n",
       "3  https://cdn.sofifa.org/flags/45.png       91         93   \n",
       "4   https://cdn.sofifa.org/flags/7.png       91         92   \n",
       "\n",
       "                  Club                                     Club Logo  ...  \\\n",
       "0         FC Barcelona  https://cdn.sofifa.org/teams/2/light/241.png  ...   \n",
       "1             Juventus   https://cdn.sofifa.org/teams/2/light/45.png  ...   \n",
       "2  Paris Saint-Germain   https://cdn.sofifa.org/teams/2/light/73.png  ...   \n",
       "3    Manchester United   https://cdn.sofifa.org/teams/2/light/11.png  ...   \n",
       "4      Manchester City   https://cdn.sofifa.org/teams/2/light/10.png  ...   \n",
       "\n",
       "  Composure Marking StandingTackle  SlidingTackle  GKDiving  GKHandling  \\\n",
       "0      96.0    33.0           28.0           26.0       6.0        11.0   \n",
       "1      95.0    28.0           31.0           23.0       7.0        11.0   \n",
       "2      94.0    27.0           24.0           33.0       9.0         9.0   \n",
       "3      68.0    15.0           21.0           13.0      90.0        85.0   \n",
       "4      88.0    68.0           58.0           51.0      15.0        13.0   \n",
       "\n",
       "  GKKicking GKPositioning GKReflexes  Release Clause  \n",
       "0      15.0          14.0        8.0         €226.5M  \n",
       "1      15.0          14.0       11.0         €127.1M  \n",
       "2      15.0          15.0       11.0         €228.1M  \n",
       "3      87.0          88.0       94.0         €138.6M  \n",
       "4       5.0          10.0       13.0         €196.4M  \n",
       "\n",
       "[5 rows x 60 columns]"
      ]
     },
     "execution_count": 104,
     "metadata": {},
     "output_type": "execute_result"
    }
   ],
   "source": [
    "\n",
    "df=pd.read_csv('fifa.csv')\n",
    "df.head()"
   ]
  },
  {
   "cell_type": "code",
   "execution_count": 15,
   "id": "b4c5c91e-589b-40d7-9a00-7c713546d966",
   "metadata": {},
   "outputs": [
    {
     "data": {
      "text/plain": [
       "(18207, 60)"
      ]
     },
     "execution_count": 15,
     "metadata": {},
     "output_type": "execute_result"
    }
   ],
   "source": [
    "df.shape"
   ]
  },
  {
   "cell_type": "markdown",
   "id": "49f5535f-e16e-4695-9354-f62a70d5377c",
   "metadata": {},
   "source": [
    "3.Drop the columns which you think redundant for the analysis."
   ]
  },
  {
   "cell_type": "code",
   "execution_count": 17,
   "id": "480d2f1e-0bea-4fd3-a772-153261067cb5",
   "metadata": {},
   "outputs": [],
   "source": [
    "# Drop the redundant columns\n",
    "df = df.drop(['Photo', 'Flag', 'Club Logo'], axis=1)"
   ]
  },
  {
   "cell_type": "code",
   "execution_count": 18,
   "id": "41655870-60c9-48f3-92e3-26b91dd80e0e",
   "metadata": {},
   "outputs": [
    {
     "data": {
      "text/html": [
       "<div>\n",
       "<style scoped>\n",
       "    .dataframe tbody tr th:only-of-type {\n",
       "        vertical-align: middle;\n",
       "    }\n",
       "\n",
       "    .dataframe tbody tr th {\n",
       "        vertical-align: top;\n",
       "    }\n",
       "\n",
       "    .dataframe thead th {\n",
       "        text-align: right;\n",
       "    }\n",
       "</style>\n",
       "<table border=\"1\" class=\"dataframe\">\n",
       "  <thead>\n",
       "    <tr style=\"text-align: right;\">\n",
       "      <th></th>\n",
       "      <th>ID</th>\n",
       "      <th>Name</th>\n",
       "      <th>Age</th>\n",
       "      <th>Nationality</th>\n",
       "      <th>Overall</th>\n",
       "      <th>Potential</th>\n",
       "      <th>Club</th>\n",
       "      <th>Value</th>\n",
       "      <th>Wage</th>\n",
       "      <th>Preferred Foot</th>\n",
       "      <th>...</th>\n",
       "      <th>Composure</th>\n",
       "      <th>Marking</th>\n",
       "      <th>StandingTackle</th>\n",
       "      <th>SlidingTackle</th>\n",
       "      <th>GKDiving</th>\n",
       "      <th>GKHandling</th>\n",
       "      <th>GKKicking</th>\n",
       "      <th>GKPositioning</th>\n",
       "      <th>GKReflexes</th>\n",
       "      <th>Release Clause</th>\n",
       "    </tr>\n",
       "  </thead>\n",
       "  <tbody>\n",
       "    <tr>\n",
       "      <th>0</th>\n",
       "      <td>158023</td>\n",
       "      <td>L. Messi</td>\n",
       "      <td>31</td>\n",
       "      <td>Argentina</td>\n",
       "      <td>94</td>\n",
       "      <td>94</td>\n",
       "      <td>FC Barcelona</td>\n",
       "      <td>€110.5M</td>\n",
       "      <td>€565K</td>\n",
       "      <td>Left</td>\n",
       "      <td>...</td>\n",
       "      <td>96.0</td>\n",
       "      <td>33.0</td>\n",
       "      <td>28.0</td>\n",
       "      <td>26.0</td>\n",
       "      <td>6.0</td>\n",
       "      <td>11.0</td>\n",
       "      <td>15.0</td>\n",
       "      <td>14.0</td>\n",
       "      <td>8.0</td>\n",
       "      <td>€226.5M</td>\n",
       "    </tr>\n",
       "    <tr>\n",
       "      <th>1</th>\n",
       "      <td>20801</td>\n",
       "      <td>Cristiano Ronaldo</td>\n",
       "      <td>33</td>\n",
       "      <td>Portugal</td>\n",
       "      <td>94</td>\n",
       "      <td>94</td>\n",
       "      <td>Juventus</td>\n",
       "      <td>€77M</td>\n",
       "      <td>€405K</td>\n",
       "      <td>Right</td>\n",
       "      <td>...</td>\n",
       "      <td>95.0</td>\n",
       "      <td>28.0</td>\n",
       "      <td>31.0</td>\n",
       "      <td>23.0</td>\n",
       "      <td>7.0</td>\n",
       "      <td>11.0</td>\n",
       "      <td>15.0</td>\n",
       "      <td>14.0</td>\n",
       "      <td>11.0</td>\n",
       "      <td>€127.1M</td>\n",
       "    </tr>\n",
       "    <tr>\n",
       "      <th>2</th>\n",
       "      <td>190871</td>\n",
       "      <td>Neymar Jr</td>\n",
       "      <td>26</td>\n",
       "      <td>Brazil</td>\n",
       "      <td>92</td>\n",
       "      <td>93</td>\n",
       "      <td>Paris Saint-Germain</td>\n",
       "      <td>€118.5M</td>\n",
       "      <td>€290K</td>\n",
       "      <td>Right</td>\n",
       "      <td>...</td>\n",
       "      <td>94.0</td>\n",
       "      <td>27.0</td>\n",
       "      <td>24.0</td>\n",
       "      <td>33.0</td>\n",
       "      <td>9.0</td>\n",
       "      <td>9.0</td>\n",
       "      <td>15.0</td>\n",
       "      <td>15.0</td>\n",
       "      <td>11.0</td>\n",
       "      <td>€228.1M</td>\n",
       "    </tr>\n",
       "    <tr>\n",
       "      <th>3</th>\n",
       "      <td>193080</td>\n",
       "      <td>De Gea</td>\n",
       "      <td>27</td>\n",
       "      <td>Spain</td>\n",
       "      <td>91</td>\n",
       "      <td>93</td>\n",
       "      <td>Manchester United</td>\n",
       "      <td>€72M</td>\n",
       "      <td>€260K</td>\n",
       "      <td>Right</td>\n",
       "      <td>...</td>\n",
       "      <td>68.0</td>\n",
       "      <td>15.0</td>\n",
       "      <td>21.0</td>\n",
       "      <td>13.0</td>\n",
       "      <td>90.0</td>\n",
       "      <td>85.0</td>\n",
       "      <td>87.0</td>\n",
       "      <td>88.0</td>\n",
       "      <td>94.0</td>\n",
       "      <td>€138.6M</td>\n",
       "    </tr>\n",
       "    <tr>\n",
       "      <th>4</th>\n",
       "      <td>192985</td>\n",
       "      <td>K. De Bruyne</td>\n",
       "      <td>27</td>\n",
       "      <td>Belgium</td>\n",
       "      <td>91</td>\n",
       "      <td>92</td>\n",
       "      <td>Manchester City</td>\n",
       "      <td>€102M</td>\n",
       "      <td>€355K</td>\n",
       "      <td>Right</td>\n",
       "      <td>...</td>\n",
       "      <td>88.0</td>\n",
       "      <td>68.0</td>\n",
       "      <td>58.0</td>\n",
       "      <td>51.0</td>\n",
       "      <td>15.0</td>\n",
       "      <td>13.0</td>\n",
       "      <td>5.0</td>\n",
       "      <td>10.0</td>\n",
       "      <td>13.0</td>\n",
       "      <td>€196.4M</td>\n",
       "    </tr>\n",
       "  </tbody>\n",
       "</table>\n",
       "<p>5 rows × 57 columns</p>\n",
       "</div>"
      ],
      "text/plain": [
       "       ID               Name  Age Nationality  Overall  Potential  \\\n",
       "0  158023           L. Messi   31   Argentina       94         94   \n",
       "1   20801  Cristiano Ronaldo   33    Portugal       94         94   \n",
       "2  190871          Neymar Jr   26      Brazil       92         93   \n",
       "3  193080             De Gea   27       Spain       91         93   \n",
       "4  192985       K. De Bruyne   27     Belgium       91         92   \n",
       "\n",
       "                  Club    Value   Wage Preferred Foot  ...  Composure  \\\n",
       "0         FC Barcelona  €110.5M  €565K           Left  ...       96.0   \n",
       "1             Juventus     €77M  €405K          Right  ...       95.0   \n",
       "2  Paris Saint-Germain  €118.5M  €290K          Right  ...       94.0   \n",
       "3    Manchester United     €72M  €260K          Right  ...       68.0   \n",
       "4      Manchester City    €102M  €355K          Right  ...       88.0   \n",
       "\n",
       "   Marking  StandingTackle SlidingTackle GKDiving GKHandling  GKKicking  \\\n",
       "0     33.0            28.0          26.0      6.0       11.0       15.0   \n",
       "1     28.0            31.0          23.0      7.0       11.0       15.0   \n",
       "2     27.0            24.0          33.0      9.0        9.0       15.0   \n",
       "3     15.0            21.0          13.0     90.0       85.0       87.0   \n",
       "4     68.0            58.0          51.0     15.0       13.0        5.0   \n",
       "\n",
       "  GKPositioning GKReflexes Release Clause  \n",
       "0          14.0        8.0        €226.5M  \n",
       "1          14.0       11.0        €127.1M  \n",
       "2          15.0       11.0        €228.1M  \n",
       "3          88.0       94.0        €138.6M  \n",
       "4          10.0       13.0        €196.4M  \n",
       "\n",
       "[5 rows x 57 columns]"
      ]
     },
     "execution_count": 18,
     "metadata": {},
     "output_type": "execute_result"
    }
   ],
   "source": [
    "df.head()"
   ]
  },
  {
   "cell_type": "markdown",
   "id": "a98a492e-d888-4b64-a8fd-24552c097795",
   "metadata": {},
   "source": [
    "Data Cleaning and Preprocessing"
   ]
  },
  {
   "cell_type": "markdown",
   "id": "dce6809b-4db3-40da-a66b-17f79158449a",
   "metadata": {},
   "source": [
    "Convert the columns \"Value\", \"Wage\", \"Release Clause\" to float datatype\n",
    "after getting rid of currency symbol and suffix. \n",
    "- Note: When the record/entry has \"M\"(indicates millions) as suffix you\n",
    "need to multiply that value with 1000000\n",
    "- When the record/entry has \"K\"(indicates thousands) as suffix you\n",
    "need to multiply that value with 1000"
   ]
  },
  {
   "cell_type": "code",
   "execution_count": 4,
   "id": "26d1aa23-ffda-42b7-8e67-1e0c47473008",
   "metadata": {},
   "outputs": [
    {
     "name": "stdout",
     "output_type": "stream",
     "text": [
      "ID                            int64\n",
      "Name                         object\n",
      "Age                           int64\n",
      "Photo                        object\n",
      "Nationality                  object\n",
      "Flag                         object\n",
      "Overall                       int64\n",
      "Potential                     int64\n",
      "Club                         object\n",
      "Club Logo                    object\n",
      "Value                       float64\n",
      "Wage                        float64\n",
      "Preferred Foot               object\n",
      "International Reputation    float64\n",
      "Weak Foot                   float64\n",
      "Skill Moves                 float64\n",
      "Work Rate                    object\n",
      "Body Type                    object\n",
      "Position                     object\n",
      "Jersey Number               float64\n",
      "Joined                       object\n",
      "Loaned From                  object\n",
      "Contract Valid Until         object\n",
      "Height                       object\n",
      "Weight                       object\n",
      "Crossing                    float64\n",
      "Finishing                   float64\n",
      "HeadingAccuracy             float64\n",
      "ShortPassing                float64\n",
      "Volleys                     float64\n",
      "Dribbling                   float64\n",
      "Curve                       float64\n",
      "FKAccuracy                  float64\n",
      "LongPassing                 float64\n",
      "BallControl                 float64\n",
      "Acceleration                float64\n",
      "SprintSpeed                 float64\n",
      "Agility                     float64\n",
      "Reactions                   float64\n",
      "Balance                     float64\n",
      "ShotPower                   float64\n",
      "Jumping                     float64\n",
      "Stamina                     float64\n",
      "Strength                    float64\n",
      "LongShots                   float64\n",
      "Aggression                  float64\n",
      "Interceptions               float64\n",
      "Positioning                 float64\n",
      "Vision                      float64\n",
      "Penalties                   float64\n",
      "Composure                   float64\n",
      "Marking                     float64\n",
      "StandingTackle              float64\n",
      "SlidingTackle               float64\n",
      "GKDiving                    float64\n",
      "GKHandling                  float64\n",
      "GKKicking                   float64\n",
      "GKPositioning               float64\n",
      "GKReflexes                  float64\n",
      "Release Clause              float64\n",
      "dtype: object\n"
     ]
    }
   ],
   "source": [
    "# Define a function to convert the values\n",
    "def convert_currency(value):\n",
    "    if pd.isnull(value) or value == '':\n",
    "        return np.nan\n",
    "    elif isinstance(value, float):\n",
    "        return value\n",
    "    elif value.endswith('M'):\n",
    "        return float(value[1:-1]) * 1000000\n",
    "    elif value.endswith('K'):\n",
    "        return float(value[1:-1]) * 1000\n",
    "    else:\n",
    "        return float(value[1:])\n",
    "\n",
    "# Apply the function to the columns\n",
    "df['Value'] = df['Value'].apply(convert_currency)\n",
    "df['Wage'] = df['Wage'].apply(convert_currency)\n",
    "df['Release Clause'] = df['Release Clause'].apply(convert_currency)\n",
    "\n",
    "# Convert the columns to float datatype\n",
    "df['Value'] = df['Value'].astype(float)\n",
    "df['Wage'] = df['Wage'].astype(float)\n",
    "df['Release Clause'] = df['Release Clause'].astype(float)\n",
    "\n",
    "# Check the updated datatypes\n",
    "print(df.dtypes)"
   ]
  },
  {
   "cell_type": "markdown",
   "id": "fa5a0f0f-95a3-4a8d-85ac-8e4426b089ab",
   "metadata": {},
   "source": [
    "5.Convert the column \"Joined\" into integer data type with keeping only the\n",
    "year"
   ]
  },
  {
   "cell_type": "code",
   "execution_count": 13,
   "id": "2254b3c3-a400-407e-8be7-a775e1aa1cca",
   "metadata": {},
   "outputs": [
    {
     "name": "stdout",
     "output_type": "stream",
     "text": [
      "0        <NA>\n",
      "1        <NA>\n",
      "2        <NA>\n",
      "3        <NA>\n",
      "4        <NA>\n",
      "         ... \n",
      "18202    <NA>\n",
      "18203    <NA>\n",
      "18204    <NA>\n",
      "18205    <NA>\n",
      "18206    <NA>\n",
      "Name: Joined, Length: 18207, dtype: Int64\n"
     ]
    }
   ],
   "source": [
    "# Check for non-finite values in the 'Joined' column\n",
    "non_finite_values = df['Joined'].isna() | ~df['Joined'].astype(str).str.isdigit()\n",
    "\n",
    "# Convert non-finite values to NaN\n",
    "df.loc[non_finite_values, 'Joined'] = np.nan\n",
    "\n",
    "# Convert the 'Joined' column to datetime\n",
    "df['Joined'] = pd.to_datetime(df['Joined'], errors='coerce')\n",
    "\n",
    "# Convert the 'Joined' column to year as integer\n",
    "df['Joined'] = df['Joined'].dt.year.astype(float).astype('Int64')\n",
    "\n",
    "# Check the updated 'Joined' column\n",
    "print(df['Joined'])"
   ]
  },
  {
   "cell_type": "markdown",
   "id": "e74b377e-d49d-4d23-8a54-a6a1ea0e8fcc",
   "metadata": {},
   "source": [
    "6.Convert the column \"Contract Valid Until\" to pandas datetime type"
   ]
  },
  {
   "cell_type": "code",
   "execution_count": 19,
   "id": "50d9f240-6b6b-4e22-96d2-d2eae215d471",
   "metadata": {},
   "outputs": [
    {
     "name": "stdout",
     "output_type": "stream",
     "text": [
      "datetime64[ns]\n"
     ]
    }
   ],
   "source": [
    "# Convert the \"Contract Valid Until\" column to datetime\n",
    "df['Contract Valid Until'] = pd.to_datetime(df['Contract Valid Until'], format='%b %d, %Y', errors='coerce')\n",
    "\n",
    "# Check the updated column data type\n",
    "print(df['Contract Valid Until'].dtype)"
   ]
  },
  {
   "cell_type": "markdown",
   "id": "30d1871f-188d-4b6d-8dfb-35537a39d041",
   "metadata": {},
   "source": [
    "7. The column 'Height' is in inches with a quotation mark, Convert to float\n",
    "with decimal points."
   ]
  },
  {
   "cell_type": "code",
   "execution_count": 62,
   "id": "605e379b-06c9-49b4-b71c-1f706ec89787",
   "metadata": {},
   "outputs": [
    {
     "name": "stdout",
     "output_type": "stream",
     "text": [
      "float64\n"
     ]
    }
   ],
   "source": [
    "df['Height'] = df['Height'].astype(str)  # Convert to string\n",
    "df['Height'] = df['Height'].str.replace('\"', '')  # Remove double quotes\n",
    "df['Height'] = df['Height'].str.replace(\"'\", '')  # Remove single quotes\n",
    "df['Height'] = df['Height'].str.extract(r'(\\d+\\.?\\d*)').astype(float)  # Extract numeric part and convert to float\n",
    "print(df['Height'].dtype)"
   ]
  },
  {
   "cell_type": "markdown",
   "id": "cf644662-e654-402c-a5ec-7e2b044dd85e",
   "metadata": {},
   "source": [
    "8.The column \"Weight\" has the suffix as lbs, remove the suffix and convertto float"
   ]
  },
  {
   "cell_type": "code",
   "execution_count": 63,
   "id": "e76bee64-1336-4288-a048-f3beb9886cb7",
   "metadata": {},
   "outputs": [],
   "source": [
    "df['Weight'] = df['Weight'].str.replace('lbs', '')  # Remove \"lbs\" suffix\n",
    "df['Weight'] = df['Weight'].astype(float)  # Convert to float"
   ]
  },
  {
   "cell_type": "code",
   "execution_count": 64,
   "id": "5f1a1d64-ec55-497c-9a18-edf3d7079507",
   "metadata": {},
   "outputs": [
    {
     "name": "stdout",
     "output_type": "stream",
     "text": [
      "float64\n"
     ]
    }
   ],
   "source": [
    "print(df['Weight'].dtype)"
   ]
  },
  {
   "cell_type": "markdown",
   "id": "5b43c955-8def-48d1-9457-1c1bded18e25",
   "metadata": {},
   "source": [
    "9. Check for the percentage of missing values and impute them with appropriate imputation techniques."
   ]
  },
  {
   "cell_type": "code",
   "execution_count": 65,
   "id": "8440911f-5765-45b2-91b0-f3b1f223a932",
   "metadata": {},
   "outputs": [
    {
     "name": "stdout",
     "output_type": "stream",
     "text": [
      "ID                           0.000000\n",
      "Name                         0.000000\n",
      "Age                          0.000000\n",
      "Photo                        0.000000\n",
      "Nationality                  0.000000\n",
      "Flag                         0.000000\n",
      "Overall                      0.000000\n",
      "Potential                    0.000000\n",
      "Club                         1.323667\n",
      "Club Logo                    0.000000\n",
      "Value                        0.000000\n",
      "Wage                         0.000000\n",
      "Preferred Foot               0.263635\n",
      "International Reputation     0.263635\n",
      "Weak Foot                    0.263635\n",
      "Skill Moves                  0.263635\n",
      "Work Rate                    0.263635\n",
      "Body Type                    0.263635\n",
      "Position                     0.329544\n",
      "Jersey Number                0.329544\n",
      "Joined                       8.529686\n",
      "Loaned From                 93.057615\n",
      "Contract Valid Until         1.587302\n",
      "Height                       0.263635\n",
      "Weight                       0.263635\n",
      "Crossing                     0.263635\n",
      "Finishing                    0.263635\n",
      "HeadingAccuracy              0.263635\n",
      "ShortPassing                 0.263635\n",
      "Volleys                      0.263635\n",
      "Dribbling                    0.263635\n",
      "Curve                        0.263635\n",
      "FKAccuracy                   0.263635\n",
      "LongPassing                  0.263635\n",
      "BallControl                  0.263635\n",
      "Acceleration                 0.263635\n",
      "SprintSpeed                  0.263635\n",
      "Agility                      0.263635\n",
      "Reactions                    0.263635\n",
      "Balance                      0.263635\n",
      "ShotPower                    0.263635\n",
      "Jumping                      0.263635\n",
      "Stamina                      0.263635\n",
      "Strength                     0.263635\n",
      "LongShots                    0.263635\n",
      "Aggression                   0.263635\n",
      "Interceptions                0.263635\n",
      "Positioning                  0.263635\n",
      "Vision                       0.263635\n",
      "Penalties                    0.263635\n",
      "Composure                    0.263635\n",
      "Marking                      0.263635\n",
      "StandingTackle               0.263635\n",
      "SlidingTackle                0.263635\n",
      "GKDiving                     0.263635\n",
      "GKHandling                   0.263635\n",
      "GKKicking                    0.263635\n",
      "GKPositioning                0.263635\n",
      "GKReflexes                   0.263635\n",
      "Release Clause               8.590103\n",
      "dtype: float64\n"
     ]
    }
   ],
   "source": [
    "# Calculate percentage of missing values in each column\n",
    "missing_percentage = df.isnull().mean() * 100\n",
    "\n",
    "# Print the missing percentage for each column\n",
    "print(missing_percentage)"
   ]
  },
  {
   "cell_type": "code",
   "execution_count": 69,
   "id": "c08765a6-d1a2-40c3-a96e-052f2938d30f",
   "metadata": {},
   "outputs": [],
   "source": [
    "# Impute missing values in numerical columns with mean\n",
    "numerical_columns = df.select_dtypes(include=['int', 'float'])\n",
    "numerical_columns.fillna(numerical_columns.mean(), inplace=True)\n",
    "\n",
    "# Impute missing values in categorical columns with mode\n",
    "categorical_columns = df.select_dtypes(include=['object'])\n",
    "categorical_columns.fillna(categorical_columns.mode().iloc[0], inplace=True)\n",
    "\n",
    "# Combine the imputed numerical and categorical columns\n",
    "df_imputed = pd.concat([numerical_columns, categorical_columns], axis=1)"
   ]
  },
  {
   "cell_type": "code",
   "execution_count": 70,
   "id": "f7a5616f-c0e0-4d07-935d-007026edc331",
   "metadata": {},
   "outputs": [
    {
     "name": "stdout",
     "output_type": "stream",
     "text": [
      "           ID  Age  Overall  Potential  International Reputation  Weak Foot  \\\n",
      "0      158023   31       94         94                       5.0        4.0   \n",
      "1       20801   33       94         94                       5.0        4.0   \n",
      "2      190871   26       92         93                       5.0        5.0   \n",
      "3      193080   27       91         93                       4.0        3.0   \n",
      "4      192985   27       91         92                       4.0        5.0   \n",
      "...       ...  ...      ...        ...                       ...        ...   \n",
      "18202  238813   19       47         65                       1.0        2.0   \n",
      "18203  243165   19       47         63                       1.0        2.0   \n",
      "18204  241638   16       47         67                       1.0        3.0   \n",
      "18205  246268   17       47         66                       1.0        3.0   \n",
      "18206  246269   16       46         66                       1.0        3.0   \n",
      "\n",
      "       Skill Moves  Jersey Number  Height  Weight  ...    Value   Wage  \\\n",
      "0              4.0           10.0    57.0   159.0  ...  €110.5M  €565K   \n",
      "1              5.0            7.0    62.0   183.0  ...     €77M  €405K   \n",
      "2              5.0           10.0    59.0   150.0  ...  €118.5M  €290K   \n",
      "3              1.0            1.0    64.0   168.0  ...     €72M  €260K   \n",
      "4              4.0            7.0   511.0   154.0  ...    €102M  €355K   \n",
      "...            ...            ...     ...     ...  ...      ...    ...   \n",
      "18202          2.0           22.0    59.0   134.0  ...     €60K    €1K   \n",
      "18203          2.0           21.0    63.0   170.0  ...     €60K    €1K   \n",
      "18204          2.0           33.0    58.0   148.0  ...     €60K    €1K   \n",
      "18205          2.0           34.0   510.0   154.0  ...     €60K    €1K   \n",
      "18206          2.0           33.0   510.0   176.0  ...     €60K    €1K   \n",
      "\n",
      "       Preferred Foot       Work Rate   Body Type  Position        Joined  \\\n",
      "0                Left  Medium/ Medium       Messi        RF   Jul 1, 2004   \n",
      "1               Right       High/ Low  C. Ronaldo        ST  Jul 10, 2018   \n",
      "2               Right    High/ Medium      Neymar        LW   Aug 3, 2017   \n",
      "3               Right  Medium/ Medium        Lean        GK   Jul 1, 2011   \n",
      "4               Right      High/ High      Normal       RCM  Aug 30, 2015   \n",
      "...               ...             ...         ...       ...           ...   \n",
      "18202           Right  Medium/ Medium        Lean        CM   May 3, 2017   \n",
      "18203           Right  Medium/ Medium      Normal        ST  Mar 19, 2018   \n",
      "18204           Right  Medium/ Medium      Normal        ST   Jul 1, 2017   \n",
      "18205           Right  Medium/ Medium        Lean        RW  Apr 24, 2018   \n",
      "18206           Right  Medium/ Medium        Lean        CM  Oct 30, 2018   \n",
      "\n",
      "       Loaned From  Contract Valid Until  Release Clause  \n",
      "0         Atalanta                  2021         €226.5M  \n",
      "1         Atalanta                  2022         €127.1M  \n",
      "2         Atalanta                  2022         €228.1M  \n",
      "3         Atalanta                  2020         €138.6M  \n",
      "4         Atalanta                  2023         €196.4M  \n",
      "...            ...                   ...             ...  \n",
      "18202     Atalanta                  2019           €143K  \n",
      "18203     Atalanta                  2020           €113K  \n",
      "18204     Atalanta                  2021           €165K  \n",
      "18205     Atalanta                  2019           €143K  \n",
      "18206     Atalanta                  2019           €165K  \n",
      "\n",
      "[18207 rows x 60 columns]\n"
     ]
    }
   ],
   "source": [
    "print(df_imputed)"
   ]
  },
  {
   "cell_type": "markdown",
   "id": "7cecbdec-873a-4d5c-8fb0-404a9eb9dcc5",
   "metadata": {},
   "source": [
    "Exploratory Data Analysis "
   ]
  },
  {
   "cell_type": "markdown",
   "id": "f8e401da-c314-4344-be39-7f1884d77449",
   "metadata": {},
   "source": [
    "10. Plot the distribution of Overall rating for all the players and write your findings"
   ]
  },
  {
   "cell_type": "code",
   "execution_count": 71,
   "id": "1299ac32-88a1-47a9-9efa-862e57dbfc85",
   "metadata": {},
   "outputs": [
    {
     "data": {
      "image/png": "[encoded data removed]",
      "text/plain": [
       "<Figure size 640x480 with 1 Axes>"
      ]
     },
     "metadata": {},
     "output_type": "display_data"
    }
   ],
   "source": [
    "# Plot the distribution of Overall rating\n",
    "plt.hist(df['Overall'], bins=20, edgecolor='black')\n",
    "plt.xlabel('Overall Rating')\n",
    "plt.ylabel('Frequency')\n",
    "plt.title('Distribution of Overall Rating')\n",
    "plt.show()"
   ]
  },
  {
   "cell_type": "markdown",
   "id": "7f907f7d-3aa7-482b-acc7-fcad0de08206",
   "metadata": {},
   "source": [
    "11. Retrieve the names of top20 players based on the Overall rating"
   ]
  },
  {
   "cell_type": "code",
   "execution_count": 72,
   "id": "510cd2c1-fa0f-433d-a3dc-f70ec097223e",
   "metadata": {},
   "outputs": [
    {
     "name": "stdout",
     "output_type": "stream",
     "text": [
      "0              L. Messi\n",
      "1     Cristiano Ronaldo\n",
      "2             Neymar Jr\n",
      "3                De Gea\n",
      "4          K. De Bruyne\n",
      "5             E. Hazard\n",
      "6             L. Modrić\n",
      "7             L. Suárez\n",
      "8          Sergio Ramos\n",
      "9              J. Oblak\n",
      "10       R. Lewandowski\n",
      "11             T. Kroos\n",
      "12             D. Godín\n",
      "13          David Silva\n",
      "14             N. Kanté\n",
      "15            P. Dybala\n",
      "16              H. Kane\n",
      "17         A. Griezmann\n",
      "18        M. ter Stegen\n",
      "19          T. Courtois\n",
      "Name: Name, dtype: object\n"
     ]
    }
   ],
   "source": [
    "# Retrieve the names of the top 20 players based on Overall rating\n",
    "top_20_players = df.nlargest(20, 'Overall')['Name']\n",
    "\n",
    "# Print the names of the top 20 players\n",
    "print(top_20_players)"
   ]
  },
  {
   "cell_type": "markdown",
   "id": "e0843623-47a2-4536-a653-7e6bca7a7c07",
   "metadata": {},
   "source": [
    "12. Generate a dataframe which should include all the information of the Top 20 players based on the Overall rating."
   ]
  },
  {
   "cell_type": "code",
   "execution_count": 73,
   "id": "f26b3c3a-0d7f-4ad7-9c03-742fe4e23c2c",
   "metadata": {},
   "outputs": [
    {
     "name": "stdout",
     "output_type": "stream",
     "text": [
      "        ID               Name  Age  \\\n",
      "0   158023           L. Messi   31   \n",
      "1    20801  Cristiano Ronaldo   33   \n",
      "2   190871          Neymar Jr   26   \n",
      "3   193080             De Gea   27   \n",
      "4   192985       K. De Bruyne   27   \n",
      "5   183277          E. Hazard   27   \n",
      "6   177003          L. Modrić   32   \n",
      "7   176580          L. Suárez   31   \n",
      "8   155862       Sergio Ramos   32   \n",
      "9   200389           J. Oblak   25   \n",
      "10  188545     R. Lewandowski   29   \n",
      "11  182521           T. Kroos   28   \n",
      "12  182493           D. Godín   32   \n",
      "13  168542        David Silva   32   \n",
      "14  215914           N. Kanté   27   \n",
      "15  211110          P. Dybala   24   \n",
      "16  202126            H. Kane   24   \n",
      "17  194765       A. Griezmann   27   \n",
      "18  192448      M. ter Stegen   26   \n",
      "19  192119        T. Courtois   26   \n",
      "\n",
      "                                             Photo Nationality  \\\n",
      "0   https://cdn.sofifa.org/players/4/19/158023.png   Argentina   \n",
      "1    https://cdn.sofifa.org/players/4/19/20801.png    Portugal   \n",
      "2   https://cdn.sofifa.org/players/4/19/190871.png      Brazil   \n",
      "3   https://cdn.sofifa.org/players/4/19/193080.png       Spain   \n",
      "4   https://cdn.sofifa.org/players/4/19/192985.png     Belgium   \n",
      "5   https://cdn.sofifa.org/players/4/19/183277.png     Belgium   \n",
      "6   https://cdn.sofifa.org/players/4/19/177003.png     Croatia   \n",
      "7   https://cdn.sofifa.org/players/4/19/176580.png     Uruguay   \n",
      "8   https://cdn.sofifa.org/players/4/19/155862.png       Spain   \n",
      "9   https://cdn.sofifa.org/players/4/19/200389.png    Slovenia   \n",
      "10  https://cdn.sofifa.org/players/4/19/188545.png      Poland   \n",
      "11  https://cdn.sofifa.org/players/4/19/182521.png     Germany   \n",
      "12  https://cdn.sofifa.org/players/4/19/182493.png     Uruguay   \n",
      "13  https://cdn.sofifa.org/players/4/19/168542.png       Spain   \n",
      "14  https://cdn.sofifa.org/players/4/19/215914.png      France   \n",
      "15  https://cdn.sofifa.org/players/4/19/211110.png   Argentina   \n",
      "16  https://cdn.sofifa.org/players/4/19/202126.png     England   \n",
      "17  https://cdn.sofifa.org/players/4/19/194765.png      France   \n",
      "18  https://cdn.sofifa.org/players/4/19/192448.png     Germany   \n",
      "19  https://cdn.sofifa.org/players/4/19/192119.png     Belgium   \n",
      "\n",
      "                                   Flag  Overall  Potential  \\\n",
      "0   https://cdn.sofifa.org/flags/52.png       94         94   \n",
      "1   https://cdn.sofifa.org/flags/38.png       94         94   \n",
      "2   https://cdn.sofifa.org/flags/54.png       92         93   \n",
      "3   https://cdn.sofifa.org/flags/45.png       91         93   \n",
      "4    https://cdn.sofifa.org/flags/7.png       91         92   \n",
      "5    https://cdn.sofifa.org/flags/7.png       91         91   \n",
      "6   https://cdn.sofifa.org/flags/10.png       91         91   \n",
      "7   https://cdn.sofifa.org/flags/60.png       91         91   \n",
      "8   https://cdn.sofifa.org/flags/45.png       91         91   \n",
      "9   https://cdn.sofifa.org/flags/44.png       90         93   \n",
      "10  https://cdn.sofifa.org/flags/37.png       90         90   \n",
      "11  https://cdn.sofifa.org/flags/21.png       90         90   \n",
      "12  https://cdn.sofifa.org/flags/60.png       90         90   \n",
      "13  https://cdn.sofifa.org/flags/45.png       90         90   \n",
      "14  https://cdn.sofifa.org/flags/18.png       89         90   \n",
      "15  https://cdn.sofifa.org/flags/52.png       89         94   \n",
      "16  https://cdn.sofifa.org/flags/14.png       89         91   \n",
      "17  https://cdn.sofifa.org/flags/18.png       89         90   \n",
      "18  https://cdn.sofifa.org/flags/21.png       89         92   \n",
      "19   https://cdn.sofifa.org/flags/7.png       89         90   \n",
      "\n",
      "                   Club                                     Club Logo  ...  \\\n",
      "0          FC Barcelona  https://cdn.sofifa.org/teams/2/light/241.png  ...   \n",
      "1              Juventus   https://cdn.sofifa.org/teams/2/light/45.png  ...   \n",
      "2   Paris Saint-Germain   https://cdn.sofifa.org/teams/2/light/73.png  ...   \n",
      "3     Manchester United   https://cdn.sofifa.org/teams/2/light/11.png  ...   \n",
      "4       Manchester City   https://cdn.sofifa.org/teams/2/light/10.png  ...   \n",
      "5               Chelsea    https://cdn.sofifa.org/teams/2/light/5.png  ...   \n",
      "6           Real Madrid  https://cdn.sofifa.org/teams/2/light/243.png  ...   \n",
      "7          FC Barcelona  https://cdn.sofifa.org/teams/2/light/241.png  ...   \n",
      "8           Real Madrid  https://cdn.sofifa.org/teams/2/light/243.png  ...   \n",
      "9       Atlético Madrid  https://cdn.sofifa.org/teams/2/light/240.png  ...   \n",
      "10    FC Bayern München   https://cdn.sofifa.org/teams/2/light/21.png  ...   \n",
      "11          Real Madrid  https://cdn.sofifa.org/teams/2/light/243.png  ...   \n",
      "12      Atlético Madrid  https://cdn.sofifa.org/teams/2/light/240.png  ...   \n",
      "13      Manchester City   https://cdn.sofifa.org/teams/2/light/10.png  ...   \n",
      "14              Chelsea    https://cdn.sofifa.org/teams/2/light/5.png  ...   \n",
      "15             Juventus   https://cdn.sofifa.org/teams/2/light/45.png  ...   \n",
      "16    Tottenham Hotspur   https://cdn.sofifa.org/teams/2/light/18.png  ...   \n",
      "17      Atlético Madrid  https://cdn.sofifa.org/teams/2/light/240.png  ...   \n",
      "18         FC Barcelona  https://cdn.sofifa.org/teams/2/light/241.png  ...   \n",
      "19          Real Madrid  https://cdn.sofifa.org/teams/2/light/243.png  ...   \n",
      "\n",
      "   Composure Marking StandingTackle  SlidingTackle  GKDiving  GKHandling  \\\n",
      "0       96.0    33.0           28.0           26.0       6.0        11.0   \n",
      "1       95.0    28.0           31.0           23.0       7.0        11.0   \n",
      "2       94.0    27.0           24.0           33.0       9.0         9.0   \n",
      "3       68.0    15.0           21.0           13.0      90.0        85.0   \n",
      "4       88.0    68.0           58.0           51.0      15.0        13.0   \n",
      "5       91.0    34.0           27.0           22.0      11.0        12.0   \n",
      "6       84.0    60.0           76.0           73.0      13.0         9.0   \n",
      "7       85.0    62.0           45.0           38.0      27.0        25.0   \n",
      "8       82.0    87.0           92.0           91.0      11.0         8.0   \n",
      "9       70.0    27.0           12.0           18.0      86.0        92.0   \n",
      "10      86.0    34.0           42.0           19.0      15.0         6.0   \n",
      "11      85.0    72.0           79.0           69.0      10.0        11.0   \n",
      "12      82.0    90.0           89.0           89.0       6.0         8.0   \n",
      "13      93.0    59.0           53.0           29.0       6.0        15.0   \n",
      "14      85.0    90.0           91.0           85.0      15.0        12.0   \n",
      "15      84.0    23.0           20.0           20.0       5.0         4.0   \n",
      "16      89.0    56.0           36.0           38.0       8.0        10.0   \n",
      "17      87.0    59.0           47.0           48.0      14.0         8.0   \n",
      "18      69.0    25.0           13.0           10.0      87.0        85.0   \n",
      "19      66.0    20.0           18.0           16.0      85.0        91.0   \n",
      "\n",
      "   GKKicking GKPositioning GKReflexes  Release Clause  \n",
      "0       15.0          14.0        8.0         €226.5M  \n",
      "1       15.0          14.0       11.0         €127.1M  \n",
      "2       15.0          15.0       11.0         €228.1M  \n",
      "3       87.0          88.0       94.0         €138.6M  \n",
      "4        5.0          10.0       13.0         €196.4M  \n",
      "5        6.0           8.0        8.0         €172.1M  \n",
      "6        7.0          14.0        9.0         €137.4M  \n",
      "7       31.0          33.0       37.0           €164M  \n",
      "8        9.0           7.0       11.0         €104.6M  \n",
      "9       78.0          88.0       89.0         €144.5M  \n",
      "10      12.0           8.0       10.0         €127.1M  \n",
      "11      13.0           7.0       10.0         €156.8M  \n",
      "12      15.0           5.0       15.0          €90.2M  \n",
      "13       7.0           6.0       12.0           €111M  \n",
      "14      10.0           7.0       10.0         €121.3M  \n",
      "15       4.0           5.0        8.0         €153.5M  \n",
      "16      11.0          14.0       11.0         €160.7M  \n",
      "17      14.0          13.0       14.0         €165.8M  \n",
      "18      88.0          85.0       90.0         €123.3M  \n",
      "19      72.0          86.0       88.0         €113.7M  \n",
      "\n",
      "[20 rows x 60 columns]\n"
     ]
    }
   ],
   "source": [
    "# Retrieve the top 20 players based on Overall rating\n",
    "top_20_players = df.nlargest(20, 'Overall')\n",
    "\n",
    "# Generate a DataFrame with all the information of the top 20 players\n",
    "top_20_players_info = df[df['ID'].isin(top_20_players['ID'])]\n",
    "\n",
    "# Print the DataFrame with all the information of the top 20 players\n",
    "print(top_20_players_info)"
   ]
  },
  {
   "cell_type": "markdown",
   "id": "06e167e1-c79b-4cd9-a2b7-d7eeffab5bfe",
   "metadata": {},
   "source": [
    "13. What is the average \"Age\" and \"Wage\" of these top 20 players? (use the data frame created in the question 11) "
   ]
  },
  {
   "cell_type": "code",
   "execution_count": 78,
   "id": "69bb3812-add0-4749-ae7d-0cbef8b947ba",
   "metadata": {},
   "outputs": [
    {
     "name": "stdout",
     "output_type": "stream",
     "text": [
      "Average Age: 28.3\n"
     ]
    }
   ],
   "source": [
    "# Calculate the average Age and Wage of the top 20 players\n",
    "average_age = top_20_players_info['Age'].mean()\n",
    "print(\"Average Age:\", average_age)"
   ]
  },
  {
   "cell_type": "code",
   "execution_count": 82,
   "id": "da74c33f-362c-4d3f-ad74-24b688a8cfe3",
   "metadata": {},
   "outputs": [
    {
     "name": "stdout",
     "output_type": "stream",
     "text": [
      "Average Wage: 289.7\n"
     ]
    }
   ],
   "source": [
    "\n",
    "# Remove non-numeric characters from wage values\n",
    "top_20_players_info['Wage'] = top_20_players_info['Wage'].str.replace('€', '')  # Remove euro symbol\n",
    "top_20_players_info['Wage'] = top_20_players_info['Wage'].str.replace('K', '')  # Remove 'K'\n",
    "\n",
    "# Extract numeric part of wage values using regular expressions\n",
    "top_20_players_info['Wage'] = top_20_players_info['Wage'].str.extract(r'(\\d+)').astype(int)\n",
    "\n",
    "# Calculate the average Wage of the top 20 players\n",
    "average_wage = top_20_players_info['Wage'].mean()\n",
    "\n",
    "# Print the average Wage\n",
    "print(\"Average Wage:\", average_wage)\n",
    "\n"
   ]
  },
  {
   "cell_type": "markdown",
   "id": "f5d47148-1311-4bdc-a6e8-02528aa0d58e",
   "metadata": {},
   "source": [
    "14. Among the top 20 players based on the Overall rating, which player has the highest wage? \n",
    "Display the name of the player with his wage. "
   ]
  },
  {
   "cell_type": "code",
   "execution_count": 83,
   "id": "c044aec9-15a7-4091-ae89-7defc19b22e8",
   "metadata": {},
   "outputs": [
    {
     "name": "stdout",
     "output_type": "stream",
     "text": [
      "Player with the highest wage:\n",
      "Name: L. Messi\n",
      "Wage: 565\n"
     ]
    }
   ],
   "source": [
    "# Find the index of the player with the highest wage\n",
    "highest_wage_index = top_20_players_info['Wage'].idxmax()\n",
    "\n",
    "# Get the name and wage of the player with the highest wage\n",
    "highest_wage_player_name = top_20_players_info.loc[highest_wage_index, 'Name']\n",
    "highest_wage_player_wage = top_20_players_info.loc[highest_wage_index, 'Wage']\n",
    "\n",
    "# Display the name of the player with his wage\n",
    "print(\"Player with the highest wage:\")\n",
    "print(\"Name:\", highest_wage_player_name)\n",
    "print(\"Wage:\", highest_wage_player_wage)"
   ]
  },
  {
   "cell_type": "markdown",
   "id": "cab56dd4-4960-4af3-891d-25ffe1f49023",
   "metadata": {},
   "source": [
    "15. Generate a dataframe which should include the \"Player name\", \"Club Name\", \"Wage\", and 'Overall rating'\n",
    "    i) find the average Overall rating for each club.\r",
    "  - ii) Display the average overall rating of Top10 Clubs using a plot"
   ]
  },
  {
   "cell_type": "code",
   "execution_count": 89,
   "id": "8c4100f9-8678-4eff-9691-a141621489a6",
   "metadata": {},
   "outputs": [
    {
     "data": {
      "text/html": [
       "<div>\n",
       "<style scoped>\n",
       "    .dataframe tbody tr th:only-of-type {\n",
       "        vertical-align: middle;\n",
       "    }\n",
       "\n",
       "    .dataframe tbody tr th {\n",
       "        vertical-align: top;\n",
       "    }\n",
       "\n",
       "    .dataframe thead th {\n",
       "        text-align: right;\n",
       "    }\n",
       "</style>\n",
       "<table border=\"1\" class=\"dataframe\">\n",
       "  <thead>\n",
       "    <tr style=\"text-align: right;\">\n",
       "      <th></th>\n",
       "      <th>Name</th>\n",
       "      <th>Club</th>\n",
       "      <th>Wage</th>\n",
       "      <th>Overall</th>\n",
       "    </tr>\n",
       "  </thead>\n",
       "  <tbody>\n",
       "    <tr>\n",
       "      <th>0</th>\n",
       "      <td>L. Messi</td>\n",
       "      <td>FC Barcelona</td>\n",
       "      <td>€565K</td>\n",
       "      <td>94</td>\n",
       "    </tr>\n",
       "    <tr>\n",
       "      <th>1</th>\n",
       "      <td>Cristiano Ronaldo</td>\n",
       "      <td>Juventus</td>\n",
       "      <td>€405K</td>\n",
       "      <td>94</td>\n",
       "    </tr>\n",
       "    <tr>\n",
       "      <th>2</th>\n",
       "      <td>Neymar Jr</td>\n",
       "      <td>Paris Saint-Germain</td>\n",
       "      <td>€290K</td>\n",
       "      <td>92</td>\n",
       "    </tr>\n",
       "    <tr>\n",
       "      <th>3</th>\n",
       "      <td>De Gea</td>\n",
       "      <td>Manchester United</td>\n",
       "      <td>€260K</td>\n",
       "      <td>91</td>\n",
       "    </tr>\n",
       "    <tr>\n",
       "      <th>4</th>\n",
       "      <td>K. De Bruyne</td>\n",
       "      <td>Manchester City</td>\n",
       "      <td>€355K</td>\n",
       "      <td>91</td>\n",
       "    </tr>\n",
       "  </tbody>\n",
       "</table>\n",
       "</div>"
      ],
      "text/plain": [
       "                Name                 Club   Wage  Overall\n",
       "0           L. Messi         FC Barcelona  €565K       94\n",
       "1  Cristiano Ronaldo             Juventus  €405K       94\n",
       "2          Neymar Jr  Paris Saint-Germain  €290K       92\n",
       "3             De Gea    Manchester United  €260K       91\n",
       "4       K. De Bruyne      Manchester City  €355K       91"
      ]
     },
     "execution_count": 89,
     "metadata": {},
     "output_type": "execute_result"
    }
   ],
   "source": [
    " # Select the required columns\n",
    "df_selected = df[['Name', 'Club', 'Wage', 'Overall']]\n",
    "\n",
    "# Display the dataframe\n",
    "df_selected.head()"
   ]
  },
  {
   "cell_type": "code",
   "execution_count": 91,
   "id": "dc2a4ca0-8bd8-42da-b5ad-77a43c8ff9ff",
   "metadata": {},
   "outputs": [
    {
     "data": {
      "text/plain": [
       "Club\n",
       " SSV Jahn Regensburg     65.586207\n",
       "1. FC Heidenheim 1846    65.750000\n",
       "1. FC Kaiserslautern     63.384615\n",
       "1. FC Köln               70.785714\n",
       "1. FC Magdeburg          65.615385\n",
       "Name: Overall, dtype: float64"
      ]
     },
     "execution_count": 91,
     "metadata": {},
     "output_type": "execute_result"
    }
   ],
   "source": [
    "# Group by 'Club Name' and calculate the average of 'Overall rating'\n",
    "average_ratings = df.groupby('Club')['Overall'].mean()\n",
    "\n",
    "# Display the average ratings\n",
    "average_ratings.head()"
   ]
  },
  {
   "cell_type": "code",
   "execution_count": 92,
   "id": "3337dd56-d9f3-4b89-9da4-14511607191a",
   "metadata": {},
   "outputs": [
    {
     "data": {
      "image/png": "[encoded data removed]",
      "text/plain": [
       "<Figure size 1000x600 with 1 Axes>"
      ]
     },
     "metadata": {},
     "output_type": "display_data"
    }
   ],
   "source": [
    "# Sort the average ratings in descending order and select the top 10 clubs\n",
    "top_10_clubs = average_ratings.sort_values(ascending=False).head(10)\n",
    "\n",
    "# Plot the average ratings\n",
    "plt.figure(figsize=(10, 6))\n",
    "top_10_clubs.plot(kind='bar')\n",
    "plt.xlabel('Club Name')\n",
    "plt.ylabel('Average Overall Rating')\n",
    "plt.title('Average Overall Rating of Top 10 Clubs')\n",
    "plt.show()"
   ]
  },
  {
   "cell_type": "markdown",
   "id": "ce6e995f-6d62-40db-99cc-78d82bd60492",
   "metadata": {},
   "source": [
    "16. What is the relationship between age and individual potential of the player? Visualize the relationship\n",
    "with appropriate plot and Comment on the same. "
   ]
  },
  {
   "cell_type": "code",
   "execution_count": 93,
   "id": "2c0a3879-d140-4ca1-b456-e89efa412f6c",
   "metadata": {},
   "outputs": [
    {
     "data": {
      "image/png": "[encoded data removed]",
      "text/plain": [
       "<Figure size 1000x600 with 1 Axes>"
      ]
     },
     "metadata": {},
     "output_type": "display_data"
    }
   ],
   "source": [
    "import matplotlib.pyplot as plt\n",
    "\n",
    "# Assuming you have a dataframe named 'df' with the required columns\n",
    "\n",
    "# Create a scatter plot\n",
    "plt.figure(figsize=(10, 6))\n",
    "plt.scatter(df['Age'], df['Potential'])\n",
    "plt.xlabel('Age')\n",
    "plt.ylabel('Individual Potential')\n",
    "plt.title('Relationship between Age and Individual Potential')\n",
    "plt.show()"
   ]
  },
  {
   "cell_type": "code",
   "execution_count": 94,
   "id": "b096afdc-d5eb-45bf-9642-74009df19010",
   "metadata": {},
   "outputs": [
    {
     "name": "stdout",
     "output_type": "stream",
     "text": [
      "Correlation coefficient: -0.2533121074109556\n"
     ]
    }
   ],
   "source": [
    "correlation = df['Age'].corr(df['Potential'])\n",
    "print('Correlation coefficient:', correlation)"
   ]
  },
  {
   "cell_type": "code",
   "execution_count": null,
   "id": "beb331a0-a862-4d0c-be87-115fb3871d18",
   "metadata": {},
   "outputs": [],
   "source": [
    "The correlation coefficient ranges from -1 to 1, where -1 indicates a strong negative correlation, 0 indicates no correlation,\n",
    "and 1 indicates a strong positive correlation. By examining the correlation coefficient, it is a small corelation"
   ]
  },
  {
   "cell_type": "markdown",
   "id": "01b3debd-901c-49ed-8d35-cdc8195ce8e4",
   "metadata": {},
   "source": [
    "17. Which features directly contribute to the wages of the players? Support your answer with a plot and a metric. (hint: use\n",
    "potential, Overall, value, international reputation, and Release Clause)"
   ]
  },
  {
   "cell_type": "code",
   "execution_count": 116,
   "id": "bc9fbb5e-2f2a-4c21-a04f-68490ba34faa",
   "metadata": {},
   "outputs": [
    {
     "name": "stdout",
     "output_type": "stream",
     "text": [
      "0        0.565\n",
      "1        0.405\n",
      "2        0.290\n",
      "3        0.260\n",
      "4        0.355\n",
      "         ...  \n",
      "18202    0.001\n",
      "18203    0.001\n",
      "18204    0.001\n",
      "18205    0.001\n",
      "18206    0.001\n",
      "Name: Wage, Length: 18207, dtype: float64\n"
     ]
    }
   ],
   "source": [
    "# Convert the 'Wage' column to string\n",
    "df['Wage'] = df['Wage'].astype(str)\n",
    "\n",
    "# Remove non-numeric characters from the 'Wage' column\n",
    "df['Wage'] = df['Wage'].str.replace('€', '').str.replace('K', 'e3').str.replace('M', 'e6')\n",
    "\n",
    "# Convert the 'Wage' column to float\n",
    "df['Wage'] = df['Wage'].astype(float)\n",
    "\n",
    "# Check the updated 'Wage' column\n",
    "print(df['Wage'])"
   ]
  },
  {
   "cell_type": "code",
   "execution_count": 117,
   "id": "b788ba64-4426-40da-a3d7-fe9303abb3e0",
   "metadata": {},
   "outputs": [
    {
     "name": "stdout",
     "output_type": "stream",
     "text": [
      "0        110500000.0\n",
      "1         77000000.0\n",
      "2        118500000.0\n",
      "3         72000000.0\n",
      "4        102000000.0\n",
      "            ...     \n",
      "18202        60000.0\n",
      "18203        60000.0\n",
      "18204        60000.0\n",
      "18205        60000.0\n",
      "18206        60000.0\n",
      "Name: Value, Length: 18207, dtype: float64\n"
     ]
    }
   ],
   "source": [
    "# Convert the 'Valuee' column to string\n",
    "df['Value'] = df['Value'].astype(str)\n",
    "\n",
    "# Remove non-numeric characters from the 'Value' column\n",
    "df['Value'] = df['Value'].str.replace('€', '').str.replace('K', 'e3').str.replace('M', 'e6')\n",
    "\n",
    "# Convert the 'Value' column to float\n",
    "df['Value'] = df['Value'].astype(float)\n",
    "\n",
    "# Check the updated 'Value' column\n",
    "print(df['Value'])"
   ]
  },
  {
   "cell_type": "code",
   "execution_count": 119,
   "id": "f50bccba-5b07-4123-bb46-8d34dd63e850",
   "metadata": {},
   "outputs": [
    {
     "name": "stdout",
     "output_type": "stream",
     "text": [
      "0        226500000.0\n",
      "1        127100000.0\n",
      "2        228100000.0\n",
      "3        138600000.0\n",
      "4        196400000.0\n",
      "            ...     \n",
      "18202       143000.0\n",
      "18203       113000.0\n",
      "18204       165000.0\n",
      "18205       143000.0\n",
      "18206       165000.0\n",
      "Name: Release Clause, Length: 18207, dtype: float64\n"
     ]
    }
   ],
   "source": [
    "# Convert the 'Release Clause' column to string\n",
    "df['Release Clause'] = df['Release Clause'].astype(str)\n",
    "\n",
    "# Remove non-numeric characters from the 'Release Clause' column\n",
    "df['Release Clause'] = df['Release Clause'].str.replace('€', '').str.replace('K', 'e3').str.replace('M', 'e6')\n",
    "\n",
    "# Convert the 'Release Clause' column to float\n",
    "df['Release Clause'] = df['Release Clause'].astype(float)\n",
    "\n",
    "# Check the updated 'Release Clause' column\n",
    "print(df['Release Clause'])"
   ]
  },
  {
   "cell_type": "code",
   "execution_count": 120,
   "id": "e5a06dfe-ddb3-4a9d-994c-a57181d8b4c2",
   "metadata": {},
   "outputs": [
    {
     "data": {
      "text/plain": [
       "<module 'matplotlib.pyplot' from 'C:\\\\Users\\\\my\\\\anaconda3\\\\Lib\\\\site-packages\\\\matplotlib\\\\pyplot.py'>"
      ]
     },
     "execution_count": 120,
     "metadata": {},
     "output_type": "execute_result"
    },
    {
     "data": {
      "image/png": "[encoded data removed]",
      "text/plain": [
       "<Figure size 1000x600 with 1 Axes>"
      ]
     },
     "metadata": {},
     "output_type": "display_data"
    }
   ],
   "source": [
    "\n",
    "# Calculate the correlation matrix\n",
    "correlation_matrix = df[selected_features + ['Wage']].corr()\n",
    "\n",
    "# Create a bar plot\n",
    "plt.figure(figsize=(10, 6))\n",
    "correlation_matrix['Wage'].drop('Wage').plot(kind='bar')\n",
    "plt.xlabel('Features')\n",
    "plt.ylabel('Correlation with Wage')\n",
    "plt.title('Correlation between Features and Wage')\n",
    "plt"
   ]
  },
  {
   "cell_type": "markdown",
   "id": "0d10174e-1068-44b8-a2f3-dad79e723b1a",
   "metadata": {},
   "source": [
    "18. Find the position in the pitch where the maximum number of playersplay and the position where the minimum\n",
    "number of players play? Display it using a plot."
   ]
  },
  {
   "cell_type": "code",
   "execution_count": 121,
   "id": "7ab7a432-ed7a-4f2a-92cc-98063869eb02",
   "metadata": {},
   "outputs": [
    {
     "data": {
      "image/png": "[encoded data removed]",
      "text/plain": [
       "<Figure size 1000x600 with 1 Axes>"
      ]
     },
     "metadata": {},
     "output_type": "display_data"
    }
   ],
   "source": [
    "# Count the occurrences of each position\n",
    "position_counts = df['Position'].value_counts()\n",
    "\n",
    "# Find the position with the maximum number of players\n",
    "max_position = position_counts.idxmax()\n",
    "\n",
    "# Find the position with the minimum number of players\n",
    "min_position = position_counts.idxmin()\n",
    "\n",
    "# Create a bar plot\n",
    "plt.figure(figsize=(10, 6))\n",
    "position_counts.plot(kind='bar')\n",
    "plt.xlabel('Position')\n",
    "plt.ylabel('Number of Players')\n",
    "plt.title('Number of Players by Position')\n",
    "plt.show()"
   ]
  },
  {
   "cell_type": "markdown",
   "id": "2e2a1a0a-0bc7-4f1c-afd1-041e01d5b8b2",
   "metadata": {},
   "source": [
    "19. How many players are from the club 'Juventus' and the wage is greaterthan 200K? Display all the information of\n",
    "such players. "
   ]
  },
  {
   "cell_type": "code",
   "execution_count": 122,
   "id": "60e58205-d321-4014-abaf-fee48c5551b8",
   "metadata": {},
   "outputs": [
    {
     "name": "stdout",
     "output_type": "stream",
     "text": [
      "Empty DataFrame\n",
      "Columns: [ID, Name, Age, Photo, Nationality, Flag, Overall, Potential, Club, Club Logo, Value, Wage, Preferred Foot, International Reputation, Weak Foot, Skill Moves, Work Rate, Body Type, Position, Jersey Number, Joined, Loaned From, Contract Valid Until, Height, Weight, Crossing, Finishing, HeadingAccuracy, ShortPassing, Volleys, Dribbling, Curve, FKAccuracy, LongPassing, BallControl, Acceleration, SprintSpeed, Agility, Reactions, Balance, ShotPower, Jumping, Stamina, Strength, LongShots, Aggression, Interceptions, Positioning, Vision, Penalties, Composure, Marking, StandingTackle, SlidingTackle, GKDiving, GKHandling, GKKicking, GKPositioning, GKReflexes, Release Clause]\n",
      "Index: []\n",
      "\n",
      "[0 rows x 60 columns]\n"
     ]
    }
   ],
   "source": [
    "# Filter the DataFrame for players from the club 'Juventus' with wage greater than 200K\n",
    "juventus_players = df[(df['Club'] == 'Juventus') & (df['Wage'] > 200000)]\n",
    "\n",
    "# Display all the information of the selected players\n",
    "print(juventus_players)"
   ]
  },
  {
   "cell_type": "code",
   "execution_count": null,
   "id": "16934c15-7bd1-4d6e-b94a-a7ebd9dae2ad",
   "metadata": {},
   "outputs": [],
   "source": []
  }
 ],
 "metadata": {
  "kernelspec": {
   "display_name": "Python 3 (ipykernel)",
   "language": "python",
   "name": "python3"
  },
  "language_info": {
   "codemirror_mode": {
    "name": "ipython",
    "version": 3
   },
   "file_extension": ".py",
   "mimetype": "text/x-python",
   "name": "python",
   "nbconvert_exporter": "python",
   "pygments_lexer": "ipython3",
   "version": "3.11.5"
  }
 },
 "nbformat": 4,
 "nbformat_minor": 5
}
